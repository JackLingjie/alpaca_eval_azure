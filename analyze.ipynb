{
 "cells": [
  {
   "cell_type": "code",
   "execution_count": 1,
   "metadata": {},
   "outputs": [
    {
     "name": "stdout",
     "output_type": "stream",
     "text": [
      "所有CSV文件已成功合并并导出为combined_leaderboard.csv\n"
     ]
    }
   ],
   "source": [
    "import pandas as pd  \n",
    "import os  \n",
    "  \n",
    "# 定义目录路径  \n",
    "directory_path = 'data/leaderboard_bak'  \n",
    "  \n",
    "# 创建一个空的DataFrame，用于存储合并后的数据  \n",
    "combined_df = pd.DataFrame()  \n",
    "  \n",
    "# 遍历目录下的所有文件  \n",
    "for filename in os.listdir(directory_path):  \n",
    "    if filename.endswith('.csv'):  \n",
    "        # 构建文件的完整路径  \n",
    "        file_path = os.path.join(directory_path, filename)  \n",
    "        # 读取CSV文件  \n",
    "        df = pd.read_csv(file_path)  \n",
    "        # 追加到combined_df中  \n",
    "        combined_df = pd.concat([combined_df, df], ignore_index=True)  \n",
    "  \n",
    "# 导出合并后的数据到一个新的CSV文件  \n",
    "combined_df.to_csv('combined_leaderboard.csv', index=False)  \n",
    "  \n",
    "print(\"所有CSV文件已成功合并并导出为combined_leaderboard.csv\")  \n"
   ]
  },
  {
   "cell_type": "code",
   "execution_count": null,
   "metadata": {},
   "outputs": [],
   "source": []
  }
 ],
 "metadata": {
  "kernelspec": {
   "display_name": "eval",
   "language": "python",
   "name": "python3"
  },
  "language_info": {
   "codemirror_mode": {
    "name": "ipython",
    "version": 3
   },
   "file_extension": ".py",
   "mimetype": "text/x-python",
   "name": "python",
   "nbconvert_exporter": "python",
   "pygments_lexer": "ipython3",
   "version": "3.10.15"
  }
 },
 "nbformat": 4,
 "nbformat_minor": 2
}
